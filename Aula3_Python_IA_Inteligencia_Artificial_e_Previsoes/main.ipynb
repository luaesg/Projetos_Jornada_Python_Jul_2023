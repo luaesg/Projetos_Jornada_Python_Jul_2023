{
 "cells": [
  {
   "cell_type": "markdown",
   "metadata": {},
   "source": [
    "Passo a passo:\n",
    "0. Entender o desafio e a impresa;\n",
    "1. Importar a base de dados;\n",
    "2. Preparar a base dados para a inteligência artificial;\n",
    "    2.1 Separar as informações em dados de treino e dados de teste;\n",
    "3. Criar um model de IA e identificar se o Score de crédito é ruim, médio ou bom;\n",
    "4. Escolher o melhor modelo;\n",
    "5. Usar o modelo em um cenário real"
   ]
  },
  {
   "cell_type": "code",
   "execution_count": null,
   "metadata": {},
   "outputs": [],
   "source": [
    "# 1. Importar a base de dados;\n",
    "import pandas as pd # importa pandas como pd # pd será o nome utilizado para chamar pandas\n",
    "tabela = pd.read_csv(\"clientes.csv\")\n",
    "\n",
    "# display(tabela) # mostra os dados da tabela\n",
    "print(tabela.info()) # mostra informações sobre as colunas das tabelas"
   ]
  },
  {
   "cell_type": "code",
   "execution_count": null,
   "metadata": {},
   "outputs": [],
   "source": [
    "# 2. Preparar a base dados para a inteligência artificial;\n",
    "\"\"\" algumas tabelas colunas em que seus valores são textos (object na tabela.info()). Estas precisam ser\n",
    "modificadas para números: profissao, mix_credito, comportamento_pagamento. O score_credito não deve ser alterado\n",
    "visto que este é que queremos calcular, saber como os outros valores se agrupam em torno deste grupo\n",
    "\"\"\"\n",
    "from sklearn.preprocessing import LabelEncoder # quando se utiliza a biblioteca scikit-learn escreve-se sklearn\n",
    "\n",
    "codificador = LabelEncoder() # LabelEncoder -> transforma texto específico em número, tipo medico = 0. Todo medico agora é 0.\n",
    "tabela[\"profissao\"] = codificador.fit_transform(tabela[\"profissao\"]) # coluna profissao de tabela recebe a transformação de texto para número que ocorrerá nesse mesmo espaço\n",
    "tabela[\"mix_credito\"] = codificador.fit_transform(tabela[\"mix_credito\"])\n",
    "tabela[\"comportamento_pagamento\"] = codificador.fit_transform(tabela[\"comportamento_pagamento\"])\n",
    "print(tabela.info()) # os valores das colunas acima agora são int\n"
   ]
  },
  {
   "cell_type": "code",
   "execution_count": null,
   "metadata": {},
   "outputs": [],
   "source": [
    "#    2.1 Separar as informações em dados de treino e dados de teste;\n",
    "\"\"\" quando uma IA precisa aprender sobre uma base de dados, é necessário fazer duas separações:\n",
    "a primeria separação: isolar a coluna que você quer que a máquina faça predição. Nesse caso, o score_credito (y) as\n",
    "outras colunas (y) serão para descobrir a previsão\n",
    "observação: x e y são nome comuns quando realiza-se esse tipo de operação \n",
    "\"\"\"\n",
    "y = tabela[\"score_credito\"]\n",
    "x = tabela.drop([\"score_credito\", \"id_cliente\"], axis = 1)# todas as colunas que não sejam score_credito(pq se aparecer não haverá predição) e id_cliente (não  é útil)\n",
    "# axis = 1 -> coluna\n",
    "# axis = 0 -> linha\n",
    "\n",
    "\"\"\" segunda separação: um pedaço da base de dados irá compor o teste. A outra será o treino \"\"\"\n",
    "from sklearn.model_selection import train_test_split # ferramenta que sorteia quais linhas vão para treino (70%) e teste (30%)\n",
    "\n",
    "x_treino, x_teste, y_treino, y_teste = train_test_split(x, y, test_size = 0.3) # por meio de test_size podemos modificar o tamanho de dados que irão para teste e treino"
   ]
  },
  {
   "cell_type": "code",
   "execution_count": null,
   "metadata": {},
   "outputs": [],
   "source": [
    "# 3. Criar um model de IA e identificar se o Score de crédito é ruim, médio ou bom;\n",
    "# modelo de árvore de decisão\n",
    "from sklearn.ensemble import RandomForestClassifier\n",
    "# modelo KNN (nearest neighbors)\n",
    "from sklearn.neighbors import KNeighborsClassifier\n",
    "\n",
    "modelo_arvoredecisao = RandomForestClassifier() # criação da inteligência artificial\n",
    "modelo_knn = KNeighborsClassifier()\n",
    "\n",
    "modelo_arvoredecisao.fit(x_treino, y_treino) # treinamento das IAs\n",
    "modelo_knn.fit(x_treino, y_treino)"
   ]
  },
  {
   "cell_type": "code",
   "execution_count": null,
   "metadata": {},
   "outputs": [],
   "source": [
    "# 4. Escolher o melhor modelo;\n",
    "# calcular a acurácia do modelo;\n",
    "from sklearn.metrics import accuracy_score\n",
    "\n",
    "previsao_arvoredecisao = modelo_arvoredecisao.predict(x_teste) # predict realiza a predição utilizando os valores de x_teste\n",
    "previsao_knn = modelo_knn.predict(x_teste.to_numpy()) # os valores da tabela x precisam estar no formato do numpy para ser processada pelo knn \n",
    "\n",
    "print(accuracy_score(y_teste, previsao_arvoredecisao)) # é o melhor modelo\n",
    "print(accuracy_score(y_teste, previsao_knn))"
   ]
  },
  {
   "cell_type": "code",
   "execution_count": null,
   "metadata": {},
   "outputs": [],
   "source": [
    "# 5. Usar o modelo em um cenário real\n",
    "novos_clientes = pd.read_csv(\"novos_clientes.csv\")\n",
    "# print(novos_clientes.info()) # é necessário transforma as colunas de texto em número\n",
    "novos_clientes[\"profissao\"] = codificador.fit_transform(novos_clientes[\"profissao\"]) # coluna profissao de tabela recebe a transformação de texto para número que ocorrerá nesse mesmo espaço\n",
    "novos_clientes[\"mix_credito\"] = codificador.fit_transform(novos_clientes[\"mix_credito\"])\n",
    "novos_clientes[\"comportamento_pagamento\"] = codificador.fit_transform(novos_clientes[\"comportamento_pagamento\"])\n",
    "# print(novos_clientes.info()) # foi modificado\n",
    "display(novos_clientes)\n",
    "\n",
    "previsao = modelo_arvoredecisao.predict(novos_clientes)\n",
    "print(previsao)\n"
   ]
  },
  {
   "cell_type": "markdown",
   "metadata": {},
   "source": [
    "Em uma situação real, o primerio indíviduo apresenta maiores chances de obter um score de crédito ruim, enquanto os outros dois novos clientes apresentam um score de crédito bom."
   ]
  }
 ],
 "metadata": {
  "kernelspec": {
   "display_name": "venv",
   "language": "python",
   "name": "python3"
  },
  "language_info": {
   "codemirror_mode": {
    "name": "ipython",
    "version": 3
   },
   "file_extension": ".py",
   "mimetype": "text/x-python",
   "name": "python",
   "nbconvert_exporter": "python",
   "pygments_lexer": "ipython3",
   "version": "3.11.2"
  },
  "orig_nbformat": 4
 },
 "nbformat": 4,
 "nbformat_minor": 2
}
