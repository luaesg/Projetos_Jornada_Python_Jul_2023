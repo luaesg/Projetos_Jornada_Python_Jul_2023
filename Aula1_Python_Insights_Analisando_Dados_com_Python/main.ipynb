{
 "cells": [
  {
   "cell_type": "markdown",
   "metadata": {},
   "source": [
    "### Passos para resolver o problema do Projeto:\n",
    "1. Importar a base de dados\n",
    "2. Visualizar a base de dados\n",
    "3. Tratamento de erros (resolver as cagadas da base de dados)\n",
    "4. Realizar análise inicial da base de dados (entender como estão os cancelamentos)\n",
    "5. Realizar análise profunda da base de dados (encontrar as causas dos cancelamentos)\n",
    "\n"
   ]
  },
  {
   "cell_type": "markdown",
   "metadata": {},
   "source": [
    "### 1. Importar a base de dados\n",
    "É necessário também importar bibliotecas. Estas são conjuntos de ferramentas que auxiliam a resolver um determinado problema."
   ]
  },
  {
   "cell_type": "code",
   "execution_count": null,
   "metadata": {},
   "outputs": [],
   "source": [
    "# Importando biblioteca\n",
    "import pandas\n",
    "\n",
    "# Importando base de dados\n",
    "tabela = pandas.read_csv(\"cancelamentos.csv\")\n",
    "\"\"\" A variável tabela recebe os valores do arquivo cancelamentos.csv lidos por meio da biblioteca pandas \"\"\""
   ]
  },
  {
   "cell_type": "markdown",
   "metadata": {},
   "source": [
    "### 2. Visualizar a tabela\n",
    "Por meio do método display() podemos ler os dados de cada coluna presentes na variável tabela. Basta inserir o nome da variável como parâmetro."
   ]
  },
  {
   "cell_type": "code",
   "execution_count": null,
   "metadata": {},
   "outputs": [],
   "source": [
    "# Visualização da tabela\n",
    "display(tabela) # display é melhor que print para mostrar uma tabela. Não está presente em formato py."
   ]
  },
  {
   "cell_type": "markdown",
   "metadata": {},
   "source": [
    "### 3. Tratamento de erros\n",
    "Busca verificar e eliminar dados que atrapalhem durante a análise de dados. Geralmente são dados sem serventia ou que apresentam falta de informações.\n",
    "\n",
    "Por exemplo:"
   ]
  },
  {
   "cell_type": "code",
   "execution_count": null,
   "metadata": {},
   "outputs": [],
   "source": [
    "display(tabela.info())\n",
    "\"\"\" É notado que em cada coluna (idade, sexo etc) se tem valores menores que 881665 (total de linhas) \n",
    "na coluna Non-Null. Isso identifica que existe linhas com elementos vazios que devem ser retiradas da tabela \"\"\"\n",
    "tabela = tabela.dropna() # deleta linhas com valores vazios\n",
    "display(tabela.info()) # agora temos 881659 linhas sem valores vazios. Note que cada atributo apresenta esse valor\n",
    "\n",
    "\n"
   ]
  },
  {
   "cell_type": "code",
   "execution_count": null,
   "metadata": {},
   "outputs": [],
   "source": [
    "\"\"\" Na tabela também é visto que existe a coluna CustomerID. Esta não apresenta valor algum para o tratamento\n",
    "de dados, logo pode ser eliminado \"\"\"\n",
    "tabela = tabela.drop(\"CustomerID\", axis = 1) # axis = 1 remove coluna. Axis = 0 remove linhas\n",
    "display(tabela) # não existe mais a coluna CustomerID\n",
    "# Observação: irá dar erro nesta seção uma vez que a coluna CustomerID não existir mais."
   ]
  },
  {
   "cell_type": "markdown",
   "metadata": {},
   "source": [
    "### 4. Realizar análise inicial da base de dados (entender como estão os cancelamentos)\n",
    "Primeiro será preciso exibir a coluna dos cancelamentos, identificando quantos cancelaram e quantos não cancelaram."
   ]
  },
  {
   "cell_type": "code",
   "execution_count": null,
   "metadata": {},
   "outputs": [],
   "source": [
    "display(tabela[\"cancelou\"].value_counts()) # value_counts irá contar quantas vezes um tipo de valor reaparece na tabela\n",
    "# O resultado da tabela acima: 499993 cancelaram e 381666 não cancelaram\n",
    "display(tabela[\"cancelou\"].value_counts(normalize=True)) # Transformou em porcentagem"
   ]
  },
  {
   "cell_type": "code",
   "execution_count": null,
   "metadata": {},
   "outputs": [],
   "source": [
    "display(tabela[\"duracao_contrato\"].value_counts(normalize=True))\n",
    "# o número de contratos por mês é bem menor do que anualmente ou trimestralmente"
   ]
  },
  {
   "cell_type": "code",
   "execution_count": null,
   "metadata": {},
   "outputs": [],
   "source": [
    "display(tabela.groupby(\"duracao_contrato\").mean(numeric_only=True)) # groupby organiza a tabela se baseando nos valores de uma coluna\n",
    "# mean realiza uma média\n",
    "\n",
    "\"\"\" Pode ser observado que a média de cancelamento dos contratos mensais é muito maior que o resto visto que é de 100%\"\"\""
   ]
  },
  {
   "cell_type": "code",
   "execution_count": null,
   "metadata": {},
   "outputs": [],
   "source": [
    "\"\"\" Agora será verificado como os dados irão se comportar caso valor mensal seja retirado da tabela\"\"\"\n",
    "tabela=tabela[tabela[\"duracao_contrato\"] != \"Monthly\"]\n",
    "display(tabela[\"cancelou\"].value_counts(normalize=True)) \n",
    "# A maior parte dos contratos anuais e trimestrais não cancelaram"
   ]
  },
  {
   "cell_type": "markdown",
   "metadata": {},
   "source": [
    "### 5. Realizar análise profunda da base de dados (encontrar as causas dos cancelamentos)\n",
    "Devido a necessidade de analisar muitos dados, a utilização da tabela não é tão eficiente por não ser muito visual. Então será feito gráficos para facilitar a leitura.\n"
   ]
  },
  {
   "cell_type": "code",
   "execution_count": null,
   "metadata": {},
   "outputs": [],
   "source": [
    "import plotly.express as px\n",
    "\n",
    "for coluna in tabela.columns: # columns é o espaço onde estão os atributos. \n",
    "# for identifica que para cada variável coluna, esta recebe o nome da coluna da tabela.\n",
    "    grafico = px.histogram(tabela, x = coluna, color = \"cancelou\") # o histograma precisa de 3 informações: tabela, eixo x e cor\n",
    "# com isso, cada coluna será comparada com a coluna cancelou para buscar por erros\n",
    "    grafico.show() # será criado um gráfico para cada coluna da tabela"
   ]
  },
  {
   "cell_type": "markdown",
   "metadata": {},
   "source": [
    "### Resultado\n",
    "Por meio dos gráficos é vísivel que os fatores relacionados ao cancelamento envolvem clientes com idade acima de 50 anos, que ligaram 5 ou mais vezes para o call center e tiveram mais de 20 dias de atraso. Com isso, se faz necessário entender e sanar os problemas enfrentados pelo call center na resolução das dificuldades dos clientes, evitando assim que as ligações se aproximem de 5 tentativas e que o tempo de espera se mantenha abaixo de 21 dias de atraso."
   ]
  }
 ],
 "metadata": {
  "kernelspec": {
   "display_name": "biblioteca",
   "language": "python",
   "name": "python3"
  },
  "language_info": {
   "codemirror_mode": {
    "name": "ipython",
    "version": 3
   },
   "file_extension": ".py",
   "mimetype": "text/x-python",
   "name": "python",
   "nbconvert_exporter": "python",
   "pygments_lexer": "ipython3",
   "version": "3.11.2"
  },
  "orig_nbformat": 4
 },
 "nbformat": 4,
 "nbformat_minor": 2
}
